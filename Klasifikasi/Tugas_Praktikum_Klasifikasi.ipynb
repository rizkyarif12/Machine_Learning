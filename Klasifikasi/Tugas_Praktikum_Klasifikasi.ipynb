{
  "nbformat": 4,
  "nbformat_minor": 0,
  "metadata": {
    "colab": {
      "provenance": []
    },
    "kernelspec": {
      "name": "python3",
      "display_name": "Python 3"
    },
    "language_info": {
      "name": "python"
    }
  },
  "cells": [
    {
      "cell_type": "markdown",
      "source": [
        "# 1.\tBuatlah model klasifikasi dengan menggunakan SVM untuk data suara, voice.csv."
      ],
      "metadata": {
        "id": "OiCqV5E42MBi"
      }
    },
    {
      "cell_type": "code",
      "execution_count": null,
      "metadata": {
        "id": "2TYuPR1O2G2A",
        "colab": {
          "base_uri": "https://localhost:8080/"
        },
        "outputId": "1be4a22a-9404-4f1e-af18-321f5205e956"
      },
      "outputs": [
        {
          "output_type": "stream",
          "name": "stdout",
          "text": [
            "Hasil akurasi data train: 97.88%\n",
            "Hasil akurasi data test: 97.06%\n",
            "Laporan klasifikasi data test\n",
            "               precision    recall  f1-score   support\n",
            "\n",
            "      female       0.97      0.97      0.97       452\n",
            "        male       0.97      0.97      0.97       499\n",
            "\n",
            "    accuracy                           0.97       951\n",
            "   macro avg       0.97      0.97      0.97       951\n",
            "weighted avg       0.97      0.97      0.97       951\n",
            "\n"
          ]
        }
      ],
      "source": [
        "import pandas as pd\n",
        "from sklearn.model_selection import train_test_split\n",
        "from sklearn.preprocessing import StandardScaler\n",
        "from sklearn.svm import SVC\n",
        "from sklearn.metrics import classification_report, accuracy_score\n",
        "\n",
        "# Load the voice data\n",
        "voice_df = pd.read_csv(\"voice.csv\")\n",
        "\n",
        "# Prepare the data\n",
        "X = voice_df.drop(\"label\", axis=1)  # Features\n",
        "y = voice_df[\"label\"]  # Target variable\n",
        "\n",
        "# Split the data\n",
        "X_train, X_test, y_train, y_test = train_test_split(X, y, test_size=0.3, random_state=42)\n",
        "\n",
        "# Standardize the features\n",
        "scaler = StandardScaler()\n",
        "X_train = scaler.fit_transform(X_train)\n",
        "X_test = scaler.transform(X_test)\n",
        "\n",
        "# Define and train the model\n",
        "model = SVC(kernel='linear')\n",
        "model.fit(X_train, y_train)\n",
        "\n",
        "# Prediksi dengan data training\n",
        "y_train_pred = model.predict(X_train)\n",
        "\n",
        "# Evaluasi akurasi prediksi training\n",
        "acc_train = accuracy_score(y_train, y_train_pred)\n",
        "\n",
        "# Prediksi dengan data test\n",
        "y_test_pred = model.predict(X_test)\n",
        "\n",
        "# Evaluasi akurasi prediksi test\n",
        "acc_test = accuracy_score(y_test, y_test_pred)\n",
        "\n",
        "# Print hasil evaluasi\n",
        "print(f'Hasil akurasi data train: {acc_train * 100:.2f}%')\n",
        "print(f'Hasil akurasi data test: {acc_test * 100:.2f}%')\n",
        "\n",
        "# Print laporan klasifikasi data test\n",
        "print(f'Laporan klasifikasi data test\\n {classification_report(y_test, y_test_pred)}')"
      ]
    },
    {
      "cell_type": "markdown",
      "source": [
        "# 2.\tBuatlah model klasfikasi Multinomial Naive Bayes dengan ketentuan,\n",
        "1. Menggunakan data spam.csv\n",
        "2.\tFitur CountVectorizer dengan mengaktifkan stop_words\n",
        "3.\tEvaluasi hasilnya\n"
      ],
      "metadata": {
        "id": "_AQCKAU335P1"
      }
    },
    {
      "cell_type": "code",
      "source": [
        "import pandas as pd\n",
        "from sklearn.feature_extraction.text import CountVectorizer\n",
        "from sklearn.naive_bayes import MultinomialNB\n",
        "from sklearn.model_selection import train_test_split\n",
        "from sklearn.metrics import classification_report, accuracy_score\n",
        "\n",
        "# Load the spam data\n",
        "spam_df = pd.read_csv(\"spam.csv\", encoding=\"latin-1\")\n",
        "\n",
        "# Rename columns for easier access\n",
        "spam_df = spam_df.rename(columns={\"v1\": \"label\", \"v2\": \"message\"})\n",
        "\n",
        "# Prepare the data\n",
        "X = spam_df[\"message\"]\n",
        "y = spam_df[\"label\"]\n",
        "\n",
        "# Split the data\n",
        "X_train, X_test, y_train, y_test = train_test_split(X, y, test_size=0.2, random_state=42)\n",
        "\n",
        "# Vectorize the text data\n",
        "bow = CountVectorizer(stop_words='english')\n",
        "X_train = bow.fit_transform(X_train)\n",
        "X_test = bow.transform(X_test)\n",
        "\n",
        "# Train the Multinomial Naive Bayes model\n",
        "mnb = MultinomialNB()\n",
        "mnb.fit(X_train, y_train)\n",
        "\n",
        "# Predict with training data\n",
        "y_train_pred_bow = mnb.predict(X_train)\n",
        "\n",
        "# Calculate training accuracy\n",
        "acc_train_bow = accuracy_score(y_train, y_train_pred_bow)\n",
        "\n",
        "# Predict with test data\n",
        "y_test_pred_bow = mnb.predict(X_test)\n",
        "\n",
        "# Calculate test accuracy\n",
        "acc_test_bow = accuracy_score(y_test, y_test_pred_bow)\n",
        "\n",
        "# Generate classification report\n",
        "report_bow = classification_report(y_test, y_test_pred_bow)\n",
        "\n",
        "# Print evaluation results\n",
        "print(f'Hasil akurasi data train: {acc_train_bow * 100:.2f}%')\n",
        "print(f'Hasil akurasi data test: {acc_test_bow * 100:.2f}%')\n",
        "print(f'Laporan klasifikasi data test\\n {report_bow}')"
      ],
      "metadata": {
        "id": "sGAr65DD3-jb",
        "outputId": "ccfc7246-6e71-4e38-f27b-e0e07f18c306",
        "colab": {
          "base_uri": "https://localhost:8080/"
        }
      },
      "execution_count": null,
      "outputs": [
        {
          "output_type": "stream",
          "name": "stdout",
          "text": [
            "Hasil akurasi data train: 99.46%\n",
            "Hasil akurasi data test: 98.39%\n",
            "Laporan klasifikasi data test\n",
            "               precision    recall  f1-score   support\n",
            "\n",
            "         ham       0.99      0.99      0.99       965\n",
            "        spam       0.96      0.92      0.94       150\n",
            "\n",
            "    accuracy                           0.98      1115\n",
            "   macro avg       0.97      0.96      0.96      1115\n",
            "weighted avg       0.98      0.98      0.98      1115\n",
            "\n"
          ]
        }
      ]
    },
    {
      "cell_type": "markdown",
      "source": [
        "# 3.\tBuatlah model klasfikasi Multinomial Naive Bayes dengan ketentuan,\n",
        "1.\tMenggunakan data spam.csv\n",
        "2.\tFitur TF-IDF dengan mengaktifkan stop_words\n",
        "3.\tEvaluasi hasilnya dan bandingkan dengan hasil pada Tugas no 2.\n",
        "4.\tBerikan kesimpulan fitur mana yang terbaik pada kasus data spam.csv\n"
      ],
      "metadata": {
        "id": "pPkCsejt71IM"
      }
    },
    {
      "cell_type": "code",
      "source": [
        "# SOAL 3\n",
        "\n",
        "from sklearn.feature_extraction.text import TfidfVectorizer\n",
        "\n",
        "X_train, X_test, y_train, y_test = train_test_split(X, y, test_size=0.2, random_state=42)\n",
        "\n",
        "tf_idf = TfidfVectorizer(stop_words='english')\n",
        "\n",
        "X_train = tf_idf.fit_transform(X_train)\n",
        "X_test = tf_idf.transform(X_test)\n",
        "\n",
        "mnb = MultinomialNB()\n",
        "mnb.fit(X_train, y_train)\n",
        "\n",
        "# Prediksi dengan data training\n",
        "y_train_pred_tf_idf = mnb.predict(X_train)\n",
        "\n",
        "# Hasil akurasi data training\n",
        "acc_train_tf_idf = accuracy_score(y_train, y_train_pred_tf_idf)\n",
        "\n",
        "# Prediksi dengan data test\n",
        "y_test_pred_tf_idf = mnb.predict(X_test)\n",
        "\n",
        "# Hasil akurasi data test\n",
        "acc_test_tf_idf = accuracy_score(y_test, y_test_pred_tf_idf)\n",
        "\n",
        "# Laporan klasifikasi\n",
        "report_tf_idf = classification_report(y_test, y_test_pred_tf_idf)\n",
        "\n",
        "# Print perbandingan hasil evaluasi\n",
        "print(f'Hasil akurasi data train menggunakan TF-IDF: {acc_train_tf_idf*100:.2f}%')\n",
        "print(f'Hasil akurasi data train menggunakan CountVectorizer: {acc_train_bow*100:.2f}%')\n",
        "print(f'Hasil akurasi data test menggunakan TF-IDF: {acc_test_tf_idf*100:.2f}%')\n",
        "print(f'Hasil akurasi data test menggunakan CountVectorizer: {acc_test_bow*100:.2f}%')\n",
        "\n",
        "# Print laporan klasifikasi data test\n",
        "print('\\n')\n",
        "print(f'Laporan klasifikasi data test menggunakan TF-IDF\\n {report_tf_idf}\\n')\n",
        "print(f'Laporan klasifikasi data test menggunakan CountVectorizer\\n {report_bow}')"
      ],
      "metadata": {
        "colab": {
          "base_uri": "https://localhost:8080/"
        },
        "id": "hbmulRT57KC4",
        "outputId": "216370f2-8e25-4925-d304-269bbf6b400a"
      },
      "execution_count": null,
      "outputs": [
        {
          "output_type": "stream",
          "name": "stdout",
          "text": [
            "Hasil akurasi data train menggunakan TF-IDF: 98.38%\n",
            "Hasil akurasi data train menggunakan CountVectorizer: 99.46%\n",
            "Hasil akurasi data test menggunakan TF-IDF: 96.68%\n",
            "Hasil akurasi data test menggunakan CountVectorizer: 98.39%\n",
            "\n",
            "\n",
            "Laporan klasifikasi data test menggunakan TF-IDF\n",
            "               precision    recall  f1-score   support\n",
            "\n",
            "         ham       0.96      1.00      0.98       965\n",
            "        spam       1.00      0.75      0.86       150\n",
            "\n",
            "    accuracy                           0.97      1115\n",
            "   macro avg       0.98      0.88      0.92      1115\n",
            "weighted avg       0.97      0.97      0.96      1115\n",
            "\n",
            "\n",
            "Laporan klasifikasi data test menggunakan CountVectorizer\n",
            "               precision    recall  f1-score   support\n",
            "\n",
            "         ham       0.99      0.99      0.99       965\n",
            "        spam       0.96      0.92      0.94       150\n",
            "\n",
            "    accuracy                           0.98      1115\n",
            "   macro avg       0.97      0.96      0.96      1115\n",
            "weighted avg       0.98      0.98      0.98      1115\n",
            "\n"
          ]
        }
      ]
    }
  ]
}