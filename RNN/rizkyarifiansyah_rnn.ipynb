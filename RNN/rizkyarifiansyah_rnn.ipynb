{
  "nbformat": 4,
  "nbformat_minor": 0,
  "metadata": {
    "colab": {
      "provenance": [],
      "gpuType": "T4",
      "authorship_tag": "ABX9TyMMm+7hoeHLrO9YF8RK6lod",
      "include_colab_link": true
    },
    "kernelspec": {
      "name": "python3",
      "display_name": "Python 3"
    },
    "language_info": {
      "name": "python"
    },
    "accelerator": "GPU"
  },
  "cells": [
    {
      "cell_type": "markdown",
      "metadata": {
        "id": "view-in-github",
        "colab_type": "text"
      },
      "source": [
        "<a href=\"https://colab.research.google.com/github/rizkyarif12/Machine_Learning/blob/main/RNN/rizkyarifiansyah_rnn.ipynb\" target=\"_parent\"><img src=\"https://colab.research.google.com/assets/colab-badge.svg\" alt=\"Open In Colab\"/></a>"
      ]
    },
    {
      "cell_type": "markdown",
      "source": [
        "# Praktikum 1: RNN untuk Analisis Sentimen"
      ],
      "metadata": {
        "id": "IPKwXeDMi7pe"
      }
    },
    {
      "cell_type": "markdown",
      "source": [
        "## Setup"
      ],
      "metadata": {
        "id": "X6w8WlBJjXIy"
      }
    },
    {
      "cell_type": "code",
      "execution_count": null,
      "metadata": {
        "id": "ns2Gm8P1ivHX"
      },
      "outputs": [],
      "source": [
        "import numpy as np\n",
        "import tensorflow_datasets as tfds\n",
        "import tensorflow as tf\n",
        "tfds.disable_progress_bar()\n",
        "import matplotlib.pyplot as plt\n"
      ]
    },
    {
      "cell_type": "code",
      "source": [
        "def plot_graphs(history, metric):\n",
        "    plt.plot(history.history[metric])\n",
        "    plt.plot(history.history['val_'+metric], '')\n",
        "    plt.xlabel(\"Epochs\")\n",
        "    plt.ylabel(metric)\n",
        "    plt.legend([metric, 'val_'+metric])\n"
      ],
      "metadata": {
        "id": "BwDzRahGjEcU"
      },
      "execution_count": null,
      "outputs": []
    },
    {
      "cell_type": "markdown",
      "source": [
        "## Setup Input Pipeline dan Buat Teks Encoder"
      ],
      "metadata": {
        "id": "QF_VZ7D1jZt2"
      }
    },
    {
      "cell_type": "code",
      "source": [
        "dataset, info = tfds.load('imdb_reviews', with_info=True,\n",
        "                          as_supervised=True)\n",
        "train_dataset, test_dataset = dataset['train'], dataset['test']\n",
        "\n",
        "train_dataset.element_spec"
      ],
      "metadata": {
        "id": "0fSY6ZcFjJ9S",
        "colab": {
          "base_uri": "https://localhost:8080/"
        },
        "outputId": "b0491a4e-3175-4c7e-b868-da9cfcdc5e8f"
      },
      "execution_count": null,
      "outputs": [
        {
          "output_type": "stream",
          "name": "stdout",
          "text": [
            "Downloading and preparing dataset 80.23 MiB (download: 80.23 MiB, generated: Unknown size, total: 80.23 MiB) to /root/tensorflow_datasets/imdb_reviews/plain_text/1.0.0...\n",
            "Dataset imdb_reviews downloaded and prepared to /root/tensorflow_datasets/imdb_reviews/plain_text/1.0.0. Subsequent calls will reuse this data.\n"
          ]
        },
        {
          "output_type": "execute_result",
          "data": {
            "text/plain": [
              "(TensorSpec(shape=(), dtype=tf.string, name=None),\n",
              " TensorSpec(shape=(), dtype=tf.int64, name=None))"
            ]
          },
          "metadata": {},
          "execution_count": 3
        }
      ]
    },
    {
      "cell_type": "code",
      "source": [
        "for example, label in train_dataset.take(1):\n",
        "  print('text: ', example.numpy())\n",
        "  print('label: ', label.numpy())"
      ],
      "metadata": {
        "id": "MDSZNoWwjUoz",
        "colab": {
          "base_uri": "https://localhost:8080/"
        },
        "outputId": "ecda23bd-38bf-4f99-813e-3b0d98976e87"
      },
      "execution_count": null,
      "outputs": [
        {
          "output_type": "stream",
          "name": "stdout",
          "text": [
            "text:  b\"This was an absolutely terrible movie. Don't be lured in by Christopher Walken or Michael Ironside. Both are great actors, but this must simply be their worst role in history. Even their great acting could not redeem this movie's ridiculous storyline. This movie is an early nineties US propaganda piece. The most pathetic scenes were those when the Columbian rebels were making their cases for revolutions. Maria Conchita Alonso appeared phony, and her pseudo-love affair with Walken was nothing but a pathetic emotional plug in a movie that was devoid of any real meaning. I am disappointed that there are movies like this, ruining actor's like Christopher Walken's good name. I could barely sit through it.\"\n",
            "label:  0\n"
          ]
        }
      ]
    },
    {
      "cell_type": "code",
      "source": [
        "BUFFER_SIZE = 10000\n",
        "BATCH_SIZE = 64\n",
        "\n",
        "train_dataset = train_dataset.shuffle(BUFFER_SIZE).batch(BATCH_SIZE).prefetch(tf.data.AUTOTUNE)\n",
        "test_dataset = test_dataset.batch(BATCH_SIZE).prefetch(tf.data.AUTOTUNE)\n",
        "\n",
        "for example, label in train_dataset.take(1):\n",
        "  print('texts: ', example.numpy()[:3])\n",
        "  print()\n",
        "  print('labels: ', label.numpy()[:3])"
      ],
      "metadata": {
        "colab": {
          "base_uri": "https://localhost:8080/"
        },
        "id": "XnxxlWtuKu2r",
        "outputId": "9ed9600e-d31b-4177-a4cb-a76098b7ff5d"
      },
      "execution_count": null,
      "outputs": [
        {
          "output_type": "stream",
          "name": "stdout",
          "text": [
            "texts:  [b'If you\\'re a fan of the late Gram Parsons then this movie is definitely going to divide you! Part comedy, part road movie, but mostly a bad fictionalization of one of rock history\\'s oddest tales.<br /><br />SPOILERS-- <br /><br />Basically the story concerns a well-known roadie named Phil Kaufman (played by Johnny Knoxville) who \"supposedly\" made a pact with cult rock/country/folk music hero Gram Parsons that stated when one of them died first (it didn\\'t matter which one it was) that the other living one was to take the deceased out to the desert, Joshua Tree National Park in California to be exact, and set the body ablaze...so as to free the spirit and become one with the earth, and so on! Sure to keep his word the barely sober Kaufman, with the assistance of a self-hating, pot-headed buddy, jacks the body of the late Parsons -whom had fatally overdosed from a drug and booze bender a day prior- from the airport. And shortly after that what ensues is a cringe-worthy combination of fiction and truth where the late Parsons girlfriend, Kaufman\\'s girlfriend, Parsons stone-faced father, and a gaggle of police officers and other pointless idiotic characters all try to beat the clock (so to speak) in trying to catch Kaufman and his pal before they get the chance to torch Parsons body! <br /><br />The film\\'s incompetent direction, bad acting, and lame offbeat tone in general all sink this movie faster than the Titanic. And not to mention the huge fact that this movie is not even halfway telling the truth of the actual events that took place. The accuracies that should have replaced the inaccuracies, as far as I\\'ve heard them, include: number 1., Parsons was married at the time of his death and even had a child, so what the hell was that all about with the girlfriend\\'s and the chasing and whatnot?, number 2., Kaufman\\'s drugged-out buddy was a known willing participant (unlike what the movie attempts to portray) in the disposing of Parson\\'s body, and finally number 3., Gram Parsons real-life father died when he was just a boy, and so it was Parson\\'s step-father (who could have honestly cared less about Gram Parsons when he was still alive) in real-life that took care of the body after it was torched! Altogether though, what probably disturbs me the most about this movie is that the real Phil Kaufman was actually on set to help assist with the facts of the story. And yet still, the movie ended up becoming so untrue and so bad that it really boggles my mind, frankly! <br /><br />Also as the mediocre aforementioned acting in the film is concerned it\\'s lead character, played by the ultra-grating Johnny Knoxville (Phil Kaufman), is not only a bad actor but it actually seems as if he were asleep throughout most of the movie, and the rest of the pathetic cast are for the most part either hysterical, brain-dead, or seem utterly clueless as to what they\\'re actually doing there in the first place! Overall, if you like Johnny Knoxville and or really dig the so-bad-they\\'re-not-even-good buddy flicks then I suppose you just might get a kick out of this movie! But, if you\\'re like me and are a fan of the late Gram Parsons, enjoy films that attempt to tell the truth as much as they can especially if they\\'re based on an actual real-life story, and or you just like good films, be-them road movies, or fictional slice-of-life stuff, you will truly loathe this film and advise others to do likewise. I obviously hated this movie and wished it had never been made in the first place, but since it was made I would have preferred it to have turned out differently than what it did, unfortunately! Maybe some day the real facts of the story will come through and be made into a really great biopic on all of Gram Parsons life...not just what happened to his body after his spirit left it. But, until that time comes all we as an audience, and or fans of the late performer get is this sad waste of film and an all-around terrible memorial (of sorts) to the musical legacy that Gram Parsons was known to have left behind. It should also be noted that they did actually use Parsons music, and a few others as well in the flick, but not surprisingly though, you never get to hear enough of it to really enjoy it even in the slightest bit. (Turkey-Zero Stars)'\n",
            " b'The Minion is about... well, a minion. A servant of Satan and whose goal is to get the key that will unlock the door where his master is trapped. He is some sort of demon who possess human beings and when the body dies will possess another. Anyone who happens to be possessed will go on some berserker rage. Dolph Lundgren plays Lukas, a member of a secret order of Templars, who is tasked to keep the key away from the minion. The movie begins a thousand years ago, in the Middle East where a couple of knight templars flee from the minion. Then flash forward to 1999, where the key winds up somewhere underground in New York. An archeologist is assigned to study/dig the place where the key was found. Needless to say, the minion is after the key, and the movie becomes a long winded chase scene between the minion and Lukas and archeologist.<br /><br />The movie, is just that, a low budget B-movie flick. The movie lacks energy, and just trods along. You\\'ll follow the chase but you won\\'t ever feel involved in the story which willfully takes ideas from previous movies (especially The Terminator films). The fight scenes with the minion is troublesome, in that you never get the sense of how good or how bad a warrior this demon is. It \"skillfully\" becomes a one-man army when fighting a squad of templars but sucks when it comes to one-on one. And it\\'s supposed to be around for a long time. All this goes to show that any sense of logic is just thrown down the drain for convenience. The whole idea of a secret order of Templars, a door to hell, and the key isn\\'t well explained. We are merely to accept that they just exist. The movie seems to have been made with the feeling there\\'s not much potential to the story but only enough to make a few bucks. Dolph Lundgren sure looks like he wish he were somewhere else.<br /><br />The verdict: 2 of 5 stars.'\n",
            " b\"Or listening to, for that matter. Even the soundtrack is a bore. <br /><br />Honestly, this isn't the worst gay movie I've seen (that would be Regarding Billy), but it's down there very close to the bottom of the barrel.<br /><br />This thing drags and drags and drags. It's not that the plot is inane--in the hands of a good writer it might have worked . . . it certainly could have been much more entertaining. There's not one plot point you can't see coming for ten miles down the road. The dialog is flat. The jokes are old. To add insult to injury, it's full of one-dimensional, stereotypical gays. <br /><br />Nothing in this movie convinced me that the situation or the relationship of the two leads was possible, much less real. There was no chemistry, no dynamic, in fact no evidence of why the leads love each other . . . we're just told they're in love. Hard to figure when they have nothing in common and aren't compatible sexually. They like the same book? Huh?<br /><br />The acting is not totally bad, but the pacing is excruciatingly slow. I mean, almost Jarmusch- slow, but without Jarmusch quality. In fact, that would be a good barometer for you. If you like Jarmusch films, avoid this one.\"]\n",
            "\n",
            "labels:  [0 0 0]\n"
          ]
        }
      ]
    },
    {
      "cell_type": "code",
      "source": [
        "VOCAB_SIZE = 1000\n",
        "encoder = tf.keras.layers.TextVectorization(\n",
        "    max_tokens=VOCAB_SIZE)\n",
        "encoder.adapt(train_dataset.map(lambda text, label: text))"
      ],
      "metadata": {
        "id": "Ydk32YZeLkoO"
      },
      "execution_count": null,
      "outputs": []
    },
    {
      "cell_type": "code",
      "source": [
        "vocab = np.array(encoder.get_vocabulary())\n",
        "vocab[:20]"
      ],
      "metadata": {
        "colab": {
          "base_uri": "https://localhost:8080/"
        },
        "id": "5oY8ClM7LnVa",
        "outputId": "11476270-fdbb-412f-dbff-4ccceba42662"
      },
      "execution_count": null,
      "outputs": [
        {
          "output_type": "execute_result",
          "data": {
            "text/plain": [
              "array(['', '[UNK]', 'the', 'and', 'a', 'of', 'to', 'is', 'in', 'it', 'i',\n",
              "       'this', 'that', 'br', 'was', 'as', 'for', 'with', 'movie', 'but'],\n",
              "      dtype='<U14')"
            ]
          },
          "metadata": {},
          "execution_count": 7
        }
      ]
    },
    {
      "cell_type": "code",
      "source": [
        "encoded_example = encoder(example)[:3].numpy()\n",
        "encoded_example"
      ],
      "metadata": {
        "colab": {
          "base_uri": "https://localhost:8080/"
        },
        "id": "AjSQ2_eULpiB",
        "outputId": "d4ff7b88-bc18-474f-f674-6e1e8f4e05f8"
      },
      "execution_count": null,
      "outputs": [
        {
          "output_type": "execute_result",
          "data": {
            "text/plain": [
              "array([[ 45, 320,   4, ...,   0,   0,   0],\n",
              "       [  2,   1,   7, ...,   0,   0,   0],\n",
              "       [ 42,   1,   6, ...,   0,   0,   0]])"
            ]
          },
          "metadata": {},
          "execution_count": 8
        }
      ]
    },
    {
      "cell_type": "code",
      "source": [
        "for n in range(3):\n",
        "  print(\"Original: \", example[n].numpy())\n",
        "  print(\"Round-trip: \", \" \".join(vocab[encoded_example[n]]))\n",
        "  print()"
      ],
      "metadata": {
        "colab": {
          "base_uri": "https://localhost:8080/"
        },
        "id": "g5hfveSDLt6M",
        "outputId": "5df261c5-4433-4fbd-9937-d06c2f8c9130"
      },
      "execution_count": null,
      "outputs": [
        {
          "output_type": "stream",
          "name": "stdout",
          "text": [
            "Original:  b'If you\\'re a fan of the late Gram Parsons then this movie is definitely going to divide you! Part comedy, part road movie, but mostly a bad fictionalization of one of rock history\\'s oddest tales.<br /><br />SPOILERS-- <br /><br />Basically the story concerns a well-known roadie named Phil Kaufman (played by Johnny Knoxville) who \"supposedly\" made a pact with cult rock/country/folk music hero Gram Parsons that stated when one of them died first (it didn\\'t matter which one it was) that the other living one was to take the deceased out to the desert, Joshua Tree National Park in California to be exact, and set the body ablaze...so as to free the spirit and become one with the earth, and so on! Sure to keep his word the barely sober Kaufman, with the assistance of a self-hating, pot-headed buddy, jacks the body of the late Parsons -whom had fatally overdosed from a drug and booze bender a day prior- from the airport. And shortly after that what ensues is a cringe-worthy combination of fiction and truth where the late Parsons girlfriend, Kaufman\\'s girlfriend, Parsons stone-faced father, and a gaggle of police officers and other pointless idiotic characters all try to beat the clock (so to speak) in trying to catch Kaufman and his pal before they get the chance to torch Parsons body! <br /><br />The film\\'s incompetent direction, bad acting, and lame offbeat tone in general all sink this movie faster than the Titanic. And not to mention the huge fact that this movie is not even halfway telling the truth of the actual events that took place. The accuracies that should have replaced the inaccuracies, as far as I\\'ve heard them, include: number 1., Parsons was married at the time of his death and even had a child, so what the hell was that all about with the girlfriend\\'s and the chasing and whatnot?, number 2., Kaufman\\'s drugged-out buddy was a known willing participant (unlike what the movie attempts to portray) in the disposing of Parson\\'s body, and finally number 3., Gram Parsons real-life father died when he was just a boy, and so it was Parson\\'s step-father (who could have honestly cared less about Gram Parsons when he was still alive) in real-life that took care of the body after it was torched! Altogether though, what probably disturbs me the most about this movie is that the real Phil Kaufman was actually on set to help assist with the facts of the story. And yet still, the movie ended up becoming so untrue and so bad that it really boggles my mind, frankly! <br /><br />Also as the mediocre aforementioned acting in the film is concerned it\\'s lead character, played by the ultra-grating Johnny Knoxville (Phil Kaufman), is not only a bad actor but it actually seems as if he were asleep throughout most of the movie, and the rest of the pathetic cast are for the most part either hysterical, brain-dead, or seem utterly clueless as to what they\\'re actually doing there in the first place! Overall, if you like Johnny Knoxville and or really dig the so-bad-they\\'re-not-even-good buddy flicks then I suppose you just might get a kick out of this movie! But, if you\\'re like me and are a fan of the late Gram Parsons, enjoy films that attempt to tell the truth as much as they can especially if they\\'re based on an actual real-life story, and or you just like good films, be-them road movies, or fictional slice-of-life stuff, you will truly loathe this film and advise others to do likewise. I obviously hated this movie and wished it had never been made in the first place, but since it was made I would have preferred it to have turned out differently than what it did, unfortunately! Maybe some day the real facts of the story will come through and be made into a really great biopic on all of Gram Parsons life...not just what happened to his body after his spirit left it. But, until that time comes all we as an audience, and or fans of the late performer get is this sad waste of film and an all-around terrible memorial (of sorts) to the musical legacy that Gram Parsons was known to have left behind. It should also be noted that they did actually use Parsons music, and a few others as well in the flick, but not surprisingly though, you never get to hear enough of it to really enjoy it even in the slightest bit. (Turkey-Zero Stars)'\n",
            "Round-trip:  if youre a fan of the late [UNK] [UNK] then this movie is definitely going to [UNK] you part comedy part [UNK] movie but mostly a bad [UNK] of one of rock [UNK] [UNK] [UNK] br [UNK] br br basically the story [UNK] a [UNK] [UNK] named [UNK] [UNK] played by [UNK] [UNK] who [UNK] made a [UNK] with [UNK] [UNK] music hero [UNK] [UNK] that [UNK] when one of them [UNK] first it didnt matter which one it was that the other living one was to take the [UNK] out to the [UNK] [UNK] [UNK] [UNK] [UNK] in [UNK] to be [UNK] and set the body [UNK] as to free the [UNK] and become one with the earth and so on sure to keep his word the [UNK] [UNK] [UNK] with the [UNK] of a [UNK] [UNK] [UNK] [UNK] the body of the late [UNK] whom had [UNK] [UNK] from a [UNK] and [UNK] [UNK] a day [UNK] from the [UNK] and [UNK] after that what [UNK] is a [UNK] [UNK] of [UNK] and truth where the late [UNK] [UNK] [UNK] [UNK] [UNK] [UNK] father and a [UNK] of police [UNK] and other [UNK] [UNK] characters all try to [UNK] the [UNK] so to [UNK] in trying to [UNK] [UNK] and his [UNK] before they get the chance to [UNK] [UNK] body br br the films [UNK] direction bad acting and lame [UNK] [UNK] in general all [UNK] this movie [UNK] than the [UNK] and not to mention the huge fact that this movie is not even [UNK] [UNK] the truth of the actual events that took place the [UNK] that should have [UNK] the [UNK] as far as ive heard them [UNK] number 1 [UNK] was [UNK] at the time of his death and even had a child so what the hell was that all about with the [UNK] and the [UNK] and [UNK] number 2 [UNK] [UNK] [UNK] was a known [UNK] [UNK] unlike what the movie attempts to [UNK] in the [UNK] of [UNK] body and finally number 3 [UNK] [UNK] [UNK] father [UNK] when he was just a boy and so it was [UNK] [UNK] who could have [UNK] [UNK] less about [UNK] [UNK] when he was still [UNK] in [UNK] that took care of the body after it was [UNK] [UNK] though what probably [UNK] me the most about this movie is that the real [UNK] [UNK] was actually on set to help [UNK] with the [UNK] of the story and yet still the movie [UNK] up [UNK] so [UNK] and so bad that it really [UNK] my mind [UNK] br br also as the [UNK] [UNK] acting in the film is [UNK] its lead character played by the [UNK] [UNK] [UNK] [UNK] [UNK] is not only a bad actor but it actually seems as if he were [UNK] throughout most of the movie and the rest of the [UNK] cast are for the most part either [UNK] [UNK] or seem [UNK] [UNK] as to what theyre actually doing there in the first place overall if you like [UNK] [UNK] and or really [UNK] the [UNK] [UNK] [UNK] then i [UNK] you just might get a [UNK] out of this movie but if youre like me and are a fan of the late [UNK] [UNK] enjoy films that attempt to tell the truth as much as they can especially if theyre based on an actual [UNK] story and or you just like good films [UNK] [UNK] movies or [UNK] [UNK] stuff you will truly [UNK] this film and [UNK] others to do [UNK] i obviously [UNK] this movie and [UNK] it had never been made in the first place but since it was made i would have [UNK] it to have turned out [UNK] than what it did unfortunately maybe some day the real [UNK] of the story will come through and be made into a really great [UNK] on all of [UNK] [UNK] [UNK] just what happened to his body after his [UNK] left it but until that time comes all we as an audience and or fans of the late [UNK] get is this sad waste of film and an [UNK] terrible [UNK] of [UNK] to the musical [UNK] that [UNK] [UNK] was known to have left behind it should also be [UNK] that they did actually use [UNK] music and a few others as well in the flick but not [UNK] though you never get to hear enough of it to really enjoy it even in the [UNK] bit [UNK] stars                                                                                         \n",
            "\n",
            "Original:  b'The Minion is about... well, a minion. A servant of Satan and whose goal is to get the key that will unlock the door where his master is trapped. He is some sort of demon who possess human beings and when the body dies will possess another. Anyone who happens to be possessed will go on some berserker rage. Dolph Lundgren plays Lukas, a member of a secret order of Templars, who is tasked to keep the key away from the minion. The movie begins a thousand years ago, in the Middle East where a couple of knight templars flee from the minion. Then flash forward to 1999, where the key winds up somewhere underground in New York. An archeologist is assigned to study/dig the place where the key was found. Needless to say, the minion is after the key, and the movie becomes a long winded chase scene between the minion and Lukas and archeologist.<br /><br />The movie, is just that, a low budget B-movie flick. The movie lacks energy, and just trods along. You\\'ll follow the chase but you won\\'t ever feel involved in the story which willfully takes ideas from previous movies (especially The Terminator films). The fight scenes with the minion is troublesome, in that you never get the sense of how good or how bad a warrior this demon is. It \"skillfully\" becomes a one-man army when fighting a squad of templars but sucks when it comes to one-on one. And it\\'s supposed to be around for a long time. All this goes to show that any sense of logic is just thrown down the drain for convenience. The whole idea of a secret order of Templars, a door to hell, and the key isn\\'t well explained. We are merely to accept that they just exist. The movie seems to have been made with the feeling there\\'s not much potential to the story but only enough to make a few bucks. Dolph Lundgren sure looks like he wish he were somewhere else.<br /><br />The verdict: 2 of 5 stars.'\n",
            "Round-trip:  the [UNK] is about well a [UNK] a [UNK] of [UNK] and whose [UNK] is to get the [UNK] that will [UNK] the [UNK] where his [UNK] is [UNK] he is some sort of [UNK] who [UNK] human [UNK] and when the body [UNK] will [UNK] another anyone who happens to be [UNK] will go on some [UNK] [UNK] [UNK] [UNK] plays [UNK] a [UNK] of a secret order of [UNK] who is [UNK] to keep the [UNK] away from the [UNK] the movie begins a [UNK] years ago in the middle [UNK] where a couple of [UNK] [UNK] [UNK] from the [UNK] then [UNK] forward to [UNK] where the [UNK] [UNK] up [UNK] [UNK] in new york an [UNK] is [UNK] to [UNK] the place where the [UNK] was found [UNK] to say the [UNK] is after the [UNK] and the movie becomes a long [UNK] [UNK] scene between the [UNK] and [UNK] and [UNK] br the movie is just that a low budget [UNK] flick the movie [UNK] [UNK] and just [UNK] along youll follow the [UNK] but you wont ever feel involved in the story which [UNK] takes ideas from previous movies especially the [UNK] films the fight scenes with the [UNK] is [UNK] in that you never get the sense of how good or how bad a [UNK] this [UNK] is it [UNK] becomes a [UNK] [UNK] when fighting a [UNK] of [UNK] but [UNK] when it comes to [UNK] one and its supposed to be around for a long time all this goes to show that any sense of [UNK] is just [UNK] down the [UNK] for [UNK] the whole idea of a secret order of [UNK] a [UNK] to hell and the [UNK] isnt well [UNK] we are [UNK] to [UNK] that they just [UNK] the movie seems to have been made with the feeling theres not much potential to the story but only enough to make a few [UNK] [UNK] [UNK] sure looks like he wish he were [UNK] [UNK] br the [UNK] 2 of 5 stars                                                                                                                                                                                                                                                                                                                                                                                                                                                                                                                         \n",
            "\n",
            "Original:  b\"Or listening to, for that matter. Even the soundtrack is a bore. <br /><br />Honestly, this isn't the worst gay movie I've seen (that would be Regarding Billy), but it's down there very close to the bottom of the barrel.<br /><br />This thing drags and drags and drags. It's not that the plot is inane--in the hands of a good writer it might have worked . . . it certainly could have been much more entertaining. There's not one plot point you can't see coming for ten miles down the road. The dialog is flat. The jokes are old. To add insult to injury, it's full of one-dimensional, stereotypical gays. <br /><br />Nothing in this movie convinced me that the situation or the relationship of the two leads was possible, much less real. There was no chemistry, no dynamic, in fact no evidence of why the leads love each other . . . we're just told they're in love. Hard to figure when they have nothing in common and aren't compatible sexually. They like the same book? Huh?<br /><br />The acting is not totally bad, but the pacing is excruciatingly slow. I mean, almost Jarmusch- slow, but without Jarmusch quality. In fact, that would be a good barometer for you. If you like Jarmusch films, avoid this one.\"\n",
            "Round-trip:  or [UNK] to for that matter even the soundtrack is a [UNK] br br [UNK] this isnt the worst [UNK] movie ive seen that would be [UNK] [UNK] but its down there very close to the [UNK] of the [UNK] br this thing [UNK] and [UNK] and [UNK] its not that the plot is [UNK] the hands of a good writer it might have worked it certainly could have been much more entertaining theres not one plot point you cant see coming for ten [UNK] down the [UNK] the dialog is [UNK] the jokes are old to add [UNK] to [UNK] its full of [UNK] [UNK] [UNK] br br nothing in this movie [UNK] me that the situation or the relationship of the two leads was possible much less real there was no [UNK] no [UNK] in fact no [UNK] of why the leads love each other were just told theyre in love hard to figure when they have nothing in [UNK] and arent [UNK] [UNK] they like the same book [UNK] br the acting is not totally bad but the [UNK] is [UNK] slow i mean almost [UNK] slow but without [UNK] quality in fact that would be a good [UNK] for you if you like [UNK] films avoid this one                                                                                                                                                                                                                                                                                                                                                                                                                                                                                                                                                                                                                                                             \n",
            "\n"
          ]
        }
      ]
    },
    {
      "cell_type": "markdown",
      "source": [
        "## Buat Model"
      ],
      "metadata": {
        "id": "8T5IS98jj-mf"
      }
    },
    {
      "cell_type": "code",
      "source": [
        "model = tf.keras.Sequential([\n",
        "    encoder,\n",
        "    tf.keras.layers.Embedding(\n",
        "        input_dim=len(encoder.get_vocabulary()),\n",
        "        output_dim=64,\n",
        "        # Use masking to handle the variable sequence lengths\n",
        "        mask_zero=True),\n",
        "    tf.keras.layers.Bidirectional(tf.keras.layers.LSTM(64)),\n",
        "    tf.keras.layers.Dense(64, activation='relu'),\n",
        "    tf.keras.layers.Dense(1)\n",
        "])"
      ],
      "metadata": {
        "id": "lH7i5F20j_zV"
      },
      "execution_count": null,
      "outputs": []
    },
    {
      "cell_type": "code",
      "source": [
        "print([layer.supports_masking for layer in model.layers])\n"
      ],
      "metadata": {
        "colab": {
          "base_uri": "https://localhost:8080/"
        },
        "id": "aNmXpjEgkWS8",
        "outputId": "2cb5ce72-7f8f-4869-9e55-6a1429196236"
      },
      "execution_count": null,
      "outputs": [
        {
          "output_type": "stream",
          "name": "stdout",
          "text": [
            "[False, True, True, True, True]\n"
          ]
        }
      ]
    },
    {
      "cell_type": "code",
      "source": [
        "# predict on a sample text without padding.\n",
        "\n",
        "sample_text = ('The movie was cool. The animation and the graphics '\n",
        "               'were out of this world. I would recommend this movie.')\n",
        "predictions = model.predict(tf.constant([sample_text]))\n",
        "print(predictions[0])"
      ],
      "metadata": {
        "colab": {
          "base_uri": "https://localhost:8080/"
        },
        "id": "da7uM45WpUaJ",
        "outputId": "73b8dac7-0ecc-4822-f718-71f956803f6f"
      },
      "execution_count": null,
      "outputs": [
        {
          "output_type": "stream",
          "name": "stdout",
          "text": [
            "\u001b[1m1/1\u001b[0m \u001b[32m━━━━━━━━━━━━━━━━━━━━\u001b[0m\u001b[37m\u001b[0m \u001b[1m2s\u001b[0m 2s/step\n",
            "[0.00408653]\n"
          ]
        }
      ]
    },
    {
      "cell_type": "code",
      "source": [
        "# predict on a sample text with padding\n",
        "\n",
        "padding = \"the \" * 2000\n",
        "predictions = model.predict(tf.constant([sample_text, padding]))\n",
        "print(predictions[0])"
      ],
      "metadata": {
        "colab": {
          "base_uri": "https://localhost:8080/"
        },
        "id": "O8v2tMoeL9me",
        "outputId": "7ff5dac8-2df0-4697-c9ba-42cdd982699f"
      },
      "execution_count": null,
      "outputs": [
        {
          "output_type": "stream",
          "name": "stdout",
          "text": [
            "\u001b[1m1/1\u001b[0m \u001b[32m━━━━━━━━━━━━━━━━━━━━\u001b[0m\u001b[37m\u001b[0m \u001b[1m0s\u001b[0m 380ms/step\n",
            "[0.00408653]\n"
          ]
        }
      ]
    },
    {
      "cell_type": "code",
      "source": [
        "model.compile(loss=tf.keras.losses.BinaryCrossentropy(from_logits=True),\n",
        "              optimizer=tf.keras.optimizers.Adam(1e-4),\n",
        "              metrics=['accuracy'])"
      ],
      "metadata": {
        "id": "NSMzDaR8MBGs"
      },
      "execution_count": null,
      "outputs": []
    },
    {
      "cell_type": "code",
      "source": [
        "history = model.fit(train_dataset, epochs=10,\n",
        "                    validation_data=test_dataset,\n",
        "                    validation_steps=30)"
      ],
      "metadata": {
        "colab": {
          "base_uri": "https://localhost:8080/"
        },
        "id": "s_qC1AUDMFxB",
        "outputId": "85b03019-f9cd-4569-907e-d1ee1e3d13b2"
      },
      "execution_count": null,
      "outputs": [
        {
          "output_type": "stream",
          "name": "stdout",
          "text": [
            "Epoch 1/10\n",
            "\u001b[1m391/391\u001b[0m \u001b[32m━━━━━━━━━━━━━━━━━━━━\u001b[0m\u001b[37m\u001b[0m \u001b[1m32s\u001b[0m 72ms/step - accuracy: 0.5137 - loss: 0.6822 - val_accuracy: 0.7807 - val_loss: 0.4955\n",
            "Epoch 2/10\n",
            "\u001b[1m391/391\u001b[0m \u001b[32m━━━━━━━━━━━━━━━━━━━━\u001b[0m\u001b[37m\u001b[0m \u001b[1m25s\u001b[0m 63ms/step - accuracy: 0.7965 - loss: 0.4298 - val_accuracy: 0.8448 - val_loss: 0.3372\n",
            "Epoch 3/10\n",
            "\u001b[1m391/391\u001b[0m \u001b[32m━━━━━━━━━━━━━━━━━━━━\u001b[0m\u001b[37m\u001b[0m \u001b[1m41s\u001b[0m 63ms/step - accuracy: 0.8461 - loss: 0.3476 - val_accuracy: 0.8672 - val_loss: 0.3065\n",
            "Epoch 4/10\n",
            "\u001b[1m391/391\u001b[0m \u001b[32m━━━━━━━━━━━━━━━━━━━━\u001b[0m\u001b[37m\u001b[0m \u001b[1m25s\u001b[0m 62ms/step - accuracy: 0.8534 - loss: 0.3273 - val_accuracy: 0.8583 - val_loss: 0.3437\n",
            "Epoch 5/10\n",
            "\u001b[1m391/391\u001b[0m \u001b[32m━━━━━━━━━━━━━━━━━━━━\u001b[0m\u001b[37m\u001b[0m \u001b[1m24s\u001b[0m 62ms/step - accuracy: 0.8592 - loss: 0.3192 - val_accuracy: 0.8609 - val_loss: 0.3278\n",
            "Epoch 6/10\n",
            "\u001b[1m391/391\u001b[0m \u001b[32m━━━━━━━━━━━━━━━━━━━━\u001b[0m\u001b[37m\u001b[0m \u001b[1m42s\u001b[0m 63ms/step - accuracy: 0.8677 - loss: 0.3111 - val_accuracy: 0.8531 - val_loss: 0.3231\n",
            "Epoch 7/10\n",
            "\u001b[1m391/391\u001b[0m \u001b[32m━━━━━━━━━━━━━━━━━━━━\u001b[0m\u001b[37m\u001b[0m \u001b[1m40s\u001b[0m 62ms/step - accuracy: 0.8653 - loss: 0.3074 - val_accuracy: 0.8568 - val_loss: 0.3108\n",
            "Epoch 8/10\n",
            "\u001b[1m391/391\u001b[0m \u001b[32m━━━━━━━━━━━━━━━━━━━━\u001b[0m\u001b[37m\u001b[0m \u001b[1m24s\u001b[0m 62ms/step - accuracy: 0.8631 - loss: 0.3090 - val_accuracy: 0.8490 - val_loss: 0.3093\n",
            "Epoch 9/10\n",
            "\u001b[1m391/391\u001b[0m \u001b[32m━━━━━━━━━━━━━━━━━━━━\u001b[0m\u001b[37m\u001b[0m \u001b[1m24s\u001b[0m 61ms/step - accuracy: 0.8697 - loss: 0.3003 - val_accuracy: 0.8641 - val_loss: 0.3038\n",
            "Epoch 10/10\n",
            "\u001b[1m391/391\u001b[0m \u001b[32m━━━━━━━━━━━━━━━━━━━━\u001b[0m\u001b[37m\u001b[0m \u001b[1m24s\u001b[0m 61ms/step - accuracy: 0.8673 - loss: 0.3013 - val_accuracy: 0.8526 - val_loss: 0.3148\n"
          ]
        }
      ]
    },
    {
      "cell_type": "code",
      "source": [
        "test_loss, test_acc = model.evaluate(test_dataset)\n",
        "\n",
        "print('Test Loss:', test_loss)\n",
        "print('Test Accuracy:', test_acc)"
      ],
      "metadata": {
        "colab": {
          "base_uri": "https://localhost:8080/"
        },
        "id": "TQctsiVAMKCs",
        "outputId": "45a92d04-d70d-4e59-f75e-19ef438ef8a8"
      },
      "execution_count": null,
      "outputs": [
        {
          "output_type": "stream",
          "name": "stdout",
          "text": [
            "\u001b[1m391/391\u001b[0m \u001b[32m━━━━━━━━━━━━━━━━━━━━\u001b[0m\u001b[37m\u001b[0m \u001b[1m13s\u001b[0m 32ms/step - accuracy: 0.8540 - loss: 0.3148\n",
            "Test Loss: 0.31446000933647156\n",
            "Test Accuracy: 0.8527200222015381\n"
          ]
        }
      ]
    },
    {
      "cell_type": "code",
      "source": [
        "plt.figure(figsize=(16, 8))\n",
        "plt.subplot(1, 2, 1)\n",
        "plot_graphs(history, 'accuracy')\n",
        "plt.ylim(None, 1)\n",
        "plt.subplot(1, 2, 2)\n",
        "plot_graphs(history, 'loss')\n",
        "plt.ylim(0, None)"
      ],
      "metadata": {
        "colab": {
          "base_uri": "https://localhost:8080/",
          "height": 678
        },
        "id": "29JBan1IMKk7",
        "outputId": "f5f3ef3b-3391-4c4c-ca69-5d3651ba886d"
      },
      "execution_count": null,
      "outputs": [
        {
          "output_type": "execute_result",
          "data": {
            "text/plain": [
              "(0.0, 0.6587148502469062)"
            ]
          },
          "metadata": {},
          "execution_count": 17
        },
        {
          "output_type": "display_data",
          "data": {
            "text/plain": [
              "<Figure size 1600x800 with 2 Axes>"
            ],
            "image/png": "[encoded data removed]"
          },
          "metadata": {}
        }
      ]
    },
    {
      "cell_type": "markdown",
      "source": [
        "## Stack two or more LSTM layers"
      ],
      "metadata": {
        "id": "O_dk5FQ8NxCg"
      }
    },
    {
      "cell_type": "code",
      "source": [
        "model = tf.keras.Sequential([\n",
        "    encoder,\n",
        "    tf.keras.layers.Embedding(len(encoder.get_vocabulary()), 64, mask_zero=True),\n",
        "    tf.keras.layers.Bidirectional(tf.keras.layers.LSTM(64,  return_sequences=True)),\n",
        "    tf.keras.layers.Bidirectional(tf.keras.layers.LSTM(32)),\n",
        "    tf.keras.layers.Dense(64, activation='relu'),\n",
        "    tf.keras.layers.Dropout(0.5),\n",
        "    tf.keras.layers.Dense(1)\n",
        "])"
      ],
      "metadata": {
        "id": "-NT7Yr5VOCDO"
      },
      "execution_count": null,
      "outputs": []
    },
    {
      "cell_type": "code",
      "source": [
        "model.compile(loss=tf.keras.losses.BinaryCrossentropy(from_logits=True),\n",
        "              optimizer=tf.keras.optimizers.Adam(1e-4),\n",
        "              metrics=['accuracy'])"
      ],
      "metadata": {
        "id": "0md7krDJOIJD"
      },
      "execution_count": null,
      "outputs": []
    },
    {
      "cell_type": "code",
      "source": [
        "history = model.fit(train_dataset, epochs=10,\n",
        "                    validation_data=test_dataset,\n",
        "                    validation_steps=30)"
      ],
      "metadata": {
        "colab": {
          "base_uri": "https://localhost:8080/"
        },
        "id": "klgOhknVOJoF",
        "outputId": "2ddb6842-61b4-4480-c18e-950ce7a22d47"
      },
      "execution_count": null,
      "outputs": [
        {
          "output_type": "stream",
          "name": "stdout",
          "text": [
            "Epoch 1/10\n",
            "\u001b[1m391/391\u001b[0m \u001b[32m━━━━━━━━━━━━━━━━━━━━\u001b[0m\u001b[37m\u001b[0m \u001b[1m53s\u001b[0m 123ms/step - accuracy: 0.5123 - loss: 0.6875 - val_accuracy: 0.6849 - val_loss: 0.5980\n",
            "Epoch 2/10\n",
            "\u001b[1m391/391\u001b[0m \u001b[32m━━━━━━━━━━━━━━━━━━━━\u001b[0m\u001b[37m\u001b[0m \u001b[1m43s\u001b[0m 110ms/step - accuracy: 0.7526 - loss: 0.4978 - val_accuracy: 0.8479 - val_loss: 0.3491\n",
            "Epoch 3/10\n",
            "\u001b[1m391/391\u001b[0m \u001b[32m━━━━━━━━━━━━━━━━━━━━\u001b[0m\u001b[37m\u001b[0m \u001b[1m44s\u001b[0m 113ms/step - accuracy: 0.8400 - loss: 0.3625 - val_accuracy: 0.8339 - val_loss: 0.3348\n",
            "Epoch 4/10\n",
            "\u001b[1m391/391\u001b[0m \u001b[32m━━━━━━━━━━━━━━━━━━━━\u001b[0m\u001b[37m\u001b[0m \u001b[1m81s\u001b[0m 111ms/step - accuracy: 0.8531 - loss: 0.3354 - val_accuracy: 0.8536 - val_loss: 0.3434\n",
            "Epoch 5/10\n",
            "\u001b[1m391/391\u001b[0m \u001b[32m━━━━━━━━━━━━━━━━━━━━\u001b[0m\u001b[37m\u001b[0m \u001b[1m82s\u001b[0m 110ms/step - accuracy: 0.8606 - loss: 0.3272 - val_accuracy: 0.8531 - val_loss: 0.3126\n",
            "Epoch 6/10\n",
            "\u001b[1m391/391\u001b[0m \u001b[32m━━━━━━━━━━━━━━━━━━━━\u001b[0m\u001b[37m\u001b[0m \u001b[1m83s\u001b[0m 111ms/step - accuracy: 0.8659 - loss: 0.3074 - val_accuracy: 0.8646 - val_loss: 0.3275\n",
            "Epoch 7/10\n",
            "\u001b[1m391/391\u001b[0m \u001b[32m━━━━━━━━━━━━━━━━━━━━\u001b[0m\u001b[37m\u001b[0m \u001b[1m88s\u001b[0m 127ms/step - accuracy: 0.8660 - loss: 0.3126 - val_accuracy: 0.8562 - val_loss: 0.3029\n",
            "Epoch 8/10\n",
            "\u001b[1m391/391\u001b[0m \u001b[32m━━━━━━━━━━━━━━━━━━━━\u001b[0m\u001b[37m\u001b[0m \u001b[1m77s\u001b[0m 113ms/step - accuracy: 0.8662 - loss: 0.3104 - val_accuracy: 0.8693 - val_loss: 0.3187\n",
            "Epoch 9/10\n",
            "\u001b[1m391/391\u001b[0m \u001b[32m━━━━━━━━━━━━━━━━━━━━\u001b[0m\u001b[37m\u001b[0m \u001b[1m81s\u001b[0m 111ms/step - accuracy: 0.8751 - loss: 0.2951 - val_accuracy: 0.8620 - val_loss: 0.3607\n",
            "Epoch 10/10\n",
            "\u001b[1m391/391\u001b[0m \u001b[32m━━━━━━━━━━━━━━━━━━━━\u001b[0m\u001b[37m\u001b[0m \u001b[1m82s\u001b[0m 112ms/step - accuracy: 0.8685 - loss: 0.3042 - val_accuracy: 0.8667 - val_loss: 0.3226\n"
          ]
        }
      ]
    },
    {
      "cell_type": "code",
      "source": [
        "test_loss, test_acc = model.evaluate(test_dataset)\n",
        "\n",
        "print('Test Loss:', test_loss)\n",
        "print('Test Accuracy:', test_acc)"
      ],
      "metadata": {
        "colab": {
          "base_uri": "https://localhost:8080/"
        },
        "id": "2wLzeLdNOLo9",
        "outputId": "ee090817-35eb-407c-e965-809d270c09fc"
      },
      "execution_count": null,
      "outputs": [
        {
          "output_type": "stream",
          "name": "stdout",
          "text": [
            "\u001b[1m391/391\u001b[0m \u001b[32m━━━━━━━━━━━━━━━━━━━━\u001b[0m\u001b[37m\u001b[0m \u001b[1m20s\u001b[0m 52ms/step - accuracy: 0.8655 - loss: 0.3256\n",
            "Test Loss: 0.3240445554256439\n",
            "Test Accuracy: 0.864359974861145\n"
          ]
        }
      ]
    },
    {
      "cell_type": "code",
      "source": [
        "# predict on a sample text without padding.\n",
        "\n",
        "sample_text = ('The movie was not good. The animation and the graphics '\n",
        "               'were terrible. I would not recommend this movie.')\n",
        "predictions = model.predict(tf.constant([sample_text]))\n",
        "print(predictions)"
      ],
      "metadata": {
        "colab": {
          "base_uri": "https://localhost:8080/"
        },
        "id": "Ucy0wMPkOM2C",
        "outputId": "3c80de88-a898-438a-8361-1c47b26ae9a1"
      },
      "execution_count": null,
      "outputs": [
        {
          "output_type": "stream",
          "name": "stdout",
          "text": [
            "\u001b[1m1/1\u001b[0m \u001b[32m━━━━━━━━━━━━━━━━━━━━\u001b[0m\u001b[37m\u001b[0m \u001b[1m1s\u001b[0m 582ms/step\n",
            "[[-1.822952]]\n"
          ]
        }
      ]
    },
    {
      "cell_type": "code",
      "source": [
        "plt.figure(figsize=(16, 6))\n",
        "plt.subplot(1, 2, 1)\n",
        "plot_graphs(history, 'accuracy')\n",
        "plt.subplot(1, 2, 2)\n",
        "plot_graphs(history, 'loss')"
      ],
      "metadata": {
        "colab": {
          "base_uri": "https://localhost:8080/",
          "height": 511
        },
        "id": "qT0qVkh-OOAT",
        "outputId": "2317e84b-bd5b-4660-c2d5-82f512bd9c7b"
      },
      "execution_count": null,
      "outputs": [
        {
          "output_type": "display_data",
          "data": {
            "text/plain": [
              "<Figure size 1600x600 with 2 Axes>"
            ],
            "image/png": "[encoded data removed]"
          },
          "metadata": {}
        }
      ]
    },
    {
      "cell_type": "markdown",
      "source": [
        "# Praktikum 2: Generator Teks dengan RNN"
      ],
      "metadata": {
        "id": "Y_i87cwzqEPP"
      }
    },
    {
      "cell_type": "markdown",
      "source": [
        "## Setup"
      ],
      "metadata": {
        "id": "KKgB_74YqcTN"
      }
    },
    {
      "cell_type": "code",
      "source": [
        "import tensorflow as tf\n",
        "import numpy as np\n",
        "import os\n",
        "import time"
      ],
      "metadata": {
        "id": "3xaovgz3qHU8"
      },
      "execution_count": null,
      "outputs": []
    },
    {
      "cell_type": "code",
      "source": [
        "path_to_file = tf.keras.utils.get_file('shakespeare.txt', 'https://storage.googleapis.com/download.tensorflow.org/data/shakespeare.txt')"
      ],
      "metadata": {
        "colab": {
          "base_uri": "https://localhost:8080/"
        },
        "id": "Dx7mx1W5qflY",
        "outputId": "318f542c-879d-4b3a-f6ba-ba8b684f9682"
      },
      "execution_count": null,
      "outputs": [
        {
          "output_type": "stream",
          "name": "stdout",
          "text": [
            "Downloading data from https://storage.googleapis.com/download.tensorflow.org/data/shakespeare.txt\n",
            "\u001b[1m1115394/1115394\u001b[0m \u001b[32m━━━━━━━━━━━━━━━━━━━━\u001b[0m\u001b[37m\u001b[0m \u001b[1m1s\u001b[0m 1us/step\n"
          ]
        }
      ]
    },
    {
      "cell_type": "code",
      "source": [
        "# Read, then decode for py2 compat.\n",
        "text = open(path_to_file, 'rb').read().decode(encoding='utf-8')\n",
        "# length of text is the number of characters in it\n",
        "print(f'Length of text: {len(text)} characters')"
      ],
      "metadata": {
        "colab": {
          "base_uri": "https://localhost:8080/"
        },
        "id": "HQjqXWXcqm8g",
        "outputId": "e0f5632c-beb5-45f6-cd50-fd351cbecaa6"
      },
      "execution_count": null,
      "outputs": [
        {
          "output_type": "stream",
          "name": "stdout",
          "text": [
            "Length of text: 1115394 characters\n"
          ]
        }
      ]
    },
    {
      "cell_type": "code",
      "source": [
        "# Take a look at the first 250 characters in text\n",
        "print(text[:250])"
      ],
      "metadata": {
        "colab": {
          "base_uri": "https://localhost:8080/"
        },
        "id": "CFnjn00Sqotu",
        "outputId": "87141e75-2275-48b1-af9b-3467f8da23f4"
      },
      "execution_count": null,
      "outputs": [
        {
          "output_type": "stream",
          "name": "stdout",
          "text": [
            "First Citizen:\n",
            "Before we proceed any further, hear me speak.\n",
            "\n",
            "All:\n",
            "Speak, speak.\n",
            "\n",
            "First Citizen:\n",
            "You are all resolved rather to die than to famish?\n",
            "\n",
            "All:\n",
            "Resolved. resolved.\n",
            "\n",
            "First Citizen:\n",
            "First, you know Caius Marcius is chief enemy to the people.\n",
            "\n"
          ]
        }
      ]
    },
    {
      "cell_type": "code",
      "source": [
        "# The unique characters in the file\n",
        "vocab = sorted(set(text))\n",
        "print(f'{len(vocab)} unique characters')"
      ],
      "metadata": {
        "colab": {
          "base_uri": "https://localhost:8080/"
        },
        "id": "EKiMCOtmqpne",
        "outputId": "85b0602b-80f2-4dea-ac0c-ca60fe1f4dd9"
      },
      "execution_count": null,
      "outputs": [
        {
          "output_type": "stream",
          "name": "stdout",
          "text": [
            "65 unique characters\n"
          ]
        }
      ]
    },
    {
      "cell_type": "markdown",
      "source": [
        "## Olah Teks"
      ],
      "metadata": {
        "id": "qXwLcSr5qr3J"
      }
    },
    {
      "cell_type": "markdown",
      "source": [
        "### Vetorize Teks"
      ],
      "metadata": {
        "id": "h2reW6w1rQ26"
      }
    },
    {
      "cell_type": "code",
      "source": [
        "example_texts = ['abcdefg', 'xyz']\n",
        "chars = tf.strings.unicode_split(example_texts, input_encoding='UTF-8')\n",
        "chars"
      ],
      "metadata": {
        "colab": {
          "base_uri": "https://localhost:8080/"
        },
        "id": "dRVh94SbqvDw",
        "outputId": "acb53c36-a69b-4a68-bf9e-49c8b40a0ce7"
      },
      "execution_count": null,
      "outputs": [
        {
          "output_type": "execute_result",
          "data": {
            "text/plain": [
              "<tf.RaggedTensor [[b'a', b'b', b'c', b'd', b'e', b'f', b'g'], [b'x', b'y', b'z']]>"
            ]
          },
          "metadata": {},
          "execution_count": 29
        }
      ]
    },
    {
      "cell_type": "code",
      "source": [
        "ids_from_chars = tf.keras.layers.StringLookup(\n",
        "vocabulary=list(vocab), mask_token=None)"
      ],
      "metadata": {
        "id": "slza-vbhq3yi"
      },
      "execution_count": null,
      "outputs": []
    },
    {
      "cell_type": "code",
      "source": [
        "ids = ids_from_chars(chars)\n",
        "ids"
      ],
      "metadata": {
        "colab": {
          "base_uri": "https://localhost:8080/"
        },
        "id": "7rN7ApVyq8m0",
        "outputId": "7cefcdb8-5893-41ea-a868-28b262eab35c"
      },
      "execution_count": null,
      "outputs": [
        {
          "output_type": "execute_result",
          "data": {
            "text/plain": [
              "<tf.RaggedTensor [[40, 41, 42, 43, 44, 45, 46], [63, 64, 65]]>"
            ]
          },
          "metadata": {},
          "execution_count": 31
        }
      ]
    },
    {
      "cell_type": "code",
      "source": [
        "chars_from_ids = tf.keras.layers.StringLookup(\n",
        "    vocabulary=ids_from_chars.get_vocabulary(), invert=True, mask_token=None)"
      ],
      "metadata": {
        "id": "XqvVWmt7rAX4"
      },
      "execution_count": null,
      "outputs": []
    },
    {
      "cell_type": "code",
      "source": [
        "chars = chars_from_ids(ids)\n",
        "chars"
      ],
      "metadata": {
        "colab": {
          "base_uri": "https://localhost:8080/"
        },
        "id": "isOyMjCvrCcI",
        "outputId": "acf5ff17-aac6-4a83-e170-44512995185b"
      },
      "execution_count": null,
      "outputs": [
        {
          "output_type": "execute_result",
          "data": {
            "text/plain": [
              "<tf.RaggedTensor [[b'a', b'b', b'c', b'd', b'e', b'f', b'g'], [b'x', b'y', b'z']]>"
            ]
          },
          "metadata": {},
          "execution_count": 33
        }
      ]
    },
    {
      "cell_type": "code",
      "source": [
        "tf.strings.reduce_join(chars, axis=-1).numpy()"
      ],
      "metadata": {
        "colab": {
          "base_uri": "https://localhost:8080/"
        },
        "id": "zlf9m1eyrFtl",
        "outputId": "14c33db1-a10a-4457-eaf1-a46747a32f75"
      },
      "execution_count": null,
      "outputs": [
        {
          "output_type": "execute_result",
          "data": {
            "text/plain": [
              "array([b'abcdefg', b'xyz'], dtype=object)"
            ]
          },
          "metadata": {},
          "execution_count": 34
        }
      ]
    },
    {
      "cell_type": "code",
      "source": [
        "def text_from_ids(ids):\n",
        "    return tf.strings.reduce_join(chars_from_ids(ids), axis=-1)"
      ],
      "metadata": {
        "id": "hLG5rIn9rIb3"
      },
      "execution_count": null,
      "outputs": []
    },
    {
      "cell_type": "markdown",
      "source": [
        "### Memuat Training Set dan Target"
      ],
      "metadata": {
        "id": "wiWZnuQQrUGa"
      }
    },
    {
      "cell_type": "code",
      "source": [
        "all_ids = ids_from_chars(tf.strings.unicode_split(text, 'UTF-8'))\n",
        "all_ids"
      ],
      "metadata": {
        "colab": {
          "base_uri": "https://localhost:8080/"
        },
        "id": "kH_GF99NrWXC",
        "outputId": "18a7c6af-832e-4512-efea-54a592e53f3d"
      },
      "execution_count": null,
      "outputs": [
        {
          "output_type": "execute_result",
          "data": {
            "text/plain": [
              "<tf.Tensor: shape=(1115394,), dtype=int64, numpy=array([19, 48, 57, ..., 46,  9,  1])>"
            ]
          },
          "metadata": {},
          "execution_count": 36
        }
      ]
    },
    {
      "cell_type": "code",
      "source": [
        "ids_dataset = tf.data.Dataset.from_tensor_slices(all_ids)"
      ],
      "metadata": {
        "id": "3U6lK5YKrYxJ"
      },
      "execution_count": null,
      "outputs": []
    },
    {
      "cell_type": "code",
      "source": [
        "for ids in ids_dataset.take(10):\n",
        "    print(chars_from_ids(ids).numpy().decode('utf-8'))"
      ],
      "metadata": {
        "colab": {
          "base_uri": "https://localhost:8080/"
        },
        "id": "2O-VLRFHraWJ",
        "outputId": "0ce019fe-0857-40ea-a77a-7eb175d981eb"
      },
      "execution_count": null,
      "outputs": [
        {
          "output_type": "stream",
          "name": "stdout",
          "text": [
            "F\n",
            "i\n",
            "r\n",
            "s\n",
            "t\n",
            " \n",
            "C\n",
            "i\n",
            "t\n",
            "i\n"
          ]
        }
      ]
    },
    {
      "cell_type": "code",
      "source": [
        "seq_length = 100"
      ],
      "metadata": {
        "id": "Oqexwfb8rcwW"
      },
      "execution_count": null,
      "outputs": []
    },
    {
      "cell_type": "code",
      "source": [
        "sequences = ids_dataset.batch(seq_length+1, drop_remainder=True)\n",
        "\n",
        "for seq in sequences.take(1):\n",
        "  print(chars_from_ids(seq))"
      ],
      "metadata": {
        "colab": {
          "base_uri": "https://localhost:8080/"
        },
        "id": "A2gL4XE_refB",
        "outputId": "82e79dec-aefb-442c-b9d1-3318e7d90610"
      },
      "execution_count": null,
      "outputs": [
        {
          "output_type": "stream",
          "name": "stdout",
          "text": [
            "tf.Tensor(\n",
            "[b'F' b'i' b'r' b's' b't' b' ' b'C' b'i' b't' b'i' b'z' b'e' b'n' b':'\n",
            " b'\\n' b'B' b'e' b'f' b'o' b'r' b'e' b' ' b'w' b'e' b' ' b'p' b'r' b'o'\n",
            " b'c' b'e' b'e' b'd' b' ' b'a' b'n' b'y' b' ' b'f' b'u' b'r' b't' b'h'\n",
            " b'e' b'r' b',' b' ' b'h' b'e' b'a' b'r' b' ' b'm' b'e' b' ' b's' b'p'\n",
            " b'e' b'a' b'k' b'.' b'\\n' b'\\n' b'A' b'l' b'l' b':' b'\\n' b'S' b'p' b'e'\n",
            " b'a' b'k' b',' b' ' b's' b'p' b'e' b'a' b'k' b'.' b'\\n' b'\\n' b'F' b'i'\n",
            " b'r' b's' b't' b' ' b'C' b'i' b't' b'i' b'z' b'e' b'n' b':' b'\\n' b'Y'\n",
            " b'o' b'u' b' '], shape=(101,), dtype=string)\n"
          ]
        }
      ]
    },
    {
      "cell_type": "code",
      "source": [
        "for seq in sequences.take(5):\n",
        "    print(text_from_ids(seq).numpy())"
      ],
      "metadata": {
        "colab": {
          "base_uri": "https://localhost:8080/"
        },
        "id": "4wQ1WLD9rg8Y",
        "outputId": "b186fba1-7a96-4c34-be5e-0f730c0131f5"
      },
      "execution_count": null,
      "outputs": [
        {
          "output_type": "stream",
          "name": "stdout",
          "text": [
            "b'First Citizen:\\nBefore we proceed any further, hear me speak.\\n\\nAll:\\nSpeak, speak.\\n\\nFirst Citizen:\\nYou '\n",
            "b'are all resolved rather to die than to famish?\\n\\nAll:\\nResolved. resolved.\\n\\nFirst Citizen:\\nFirst, you k'\n",
            "b\"now Caius Marcius is chief enemy to the people.\\n\\nAll:\\nWe know't, we know't.\\n\\nFirst Citizen:\\nLet us ki\"\n",
            "b\"ll him, and we'll have corn at our own price.\\nIs't a verdict?\\n\\nAll:\\nNo more talking on't; let it be d\"\n",
            "b'one: away, away!\\n\\nSecond Citizen:\\nOne word, good citizens.\\n\\nFirst Citizen:\\nWe are accounted poor citi'\n"
          ]
        }
      ]
    },
    {
      "cell_type": "code",
      "source": [
        "def split_input_target(sequence):\n",
        "    input_text = sequence[:-1]\n",
        "    target_text = sequence[1:]\n",
        "    return input_text, target_text"
      ],
      "metadata": {
        "id": "R3H2xSUqrl7b"
      },
      "execution_count": null,
      "outputs": []
    },
    {
      "cell_type": "code",
      "source": [
        "split_input_target(list(\"Tensorflow\"))"
      ],
      "metadata": {
        "colab": {
          "base_uri": "https://localhost:8080/"
        },
        "id": "zUXNRdkxrp9F",
        "outputId": "c333e487-6dcf-4791-b901-94e8fe5ad6ce"
      },
      "execution_count": null,
      "outputs": [
        {
          "output_type": "execute_result",
          "data": {
            "text/plain": [
              "(['T', 'e', 'n', 's', 'o', 'r', 'f', 'l', 'o'],\n",
              " ['e', 'n', 's', 'o', 'r', 'f', 'l', 'o', 'w'])"
            ]
          },
          "metadata": {},
          "execution_count": 43
        }
      ]
    },
    {
      "cell_type": "code",
      "source": [
        "dataset = sequences.map(split_input_target)"
      ],
      "metadata": {
        "id": "ArKWx-2Frrvx"
      },
      "execution_count": null,
      "outputs": []
    },
    {
      "cell_type": "code",
      "source": [
        "for input_example, target_example in dataset.take(1):\n",
        "    print(\"Input :\", text_from_ids(input_example).numpy())\n",
        "    print(\"Target:\", text_from_ids(target_example).numpy())"
      ],
      "metadata": {
        "colab": {
          "base_uri": "https://localhost:8080/"
        },
        "id": "UF4mRS1srtb7",
        "outputId": "d88f2111-77c7-4c0e-ee77-06f2d7402133"
      },
      "execution_count": null,
      "outputs": [
        {
          "output_type": "stream",
          "name": "stdout",
          "text": [
            "Input : b'First Citizen:\\nBefore we proceed any further, hear me speak.\\n\\nAll:\\nSpeak, speak.\\n\\nFirst Citizen:\\nYou'\n",
            "Target: b'irst Citizen:\\nBefore we proceed any further, hear me speak.\\n\\nAll:\\nSpeak, speak.\\n\\nFirst Citizen:\\nYou '\n"
          ]
        }
      ]
    },
    {
      "cell_type": "markdown",
      "source": [
        "### Membuat Batch Training"
      ],
      "metadata": {
        "id": "lVtq4rD7rwFI"
      }
    },
    {
      "cell_type": "code",
      "source": [
        "# Batch size\n",
        "BATCH_SIZE = 64\n",
        "\n",
        "# Buffer size to shuffle the dataset\n",
        "# (TF data is designed to work with possibly infinite sequences,\n",
        "# so it doesn't attempt to shuffle the entire sequence in memory. Instead,\n",
        "# it maintains a buffer in which it shuffles elements).\n",
        "BUFFER_SIZE = 10000\n",
        "\n",
        "dataset = (\n",
        "    dataset\n",
        "    .shuffle(BUFFER_SIZE)\n",
        "    .batch(BATCH_SIZE, drop_remainder=True)\n",
        "    .prefetch(tf.data.experimental.AUTOTUNE))\n",
        "\n",
        "dataset"
      ],
      "metadata": {
        "colab": {
          "base_uri": "https://localhost:8080/"
        },
        "id": "gAdT3LJDryRi",
        "outputId": "5162a3bf-489c-4e3d-d55c-7f409a793355"
      },
      "execution_count": null,
      "outputs": [
        {
          "output_type": "execute_result",
          "data": {
            "text/plain": [
              "<_PrefetchDataset element_spec=(TensorSpec(shape=(64, 100), dtype=tf.int64, name=None), TensorSpec(shape=(64, 100), dtype=tf.int64, name=None))>"
            ]
          },
          "metadata": {},
          "execution_count": 46
        }
      ]
    },
    {
      "cell_type": "markdown",
      "source": [
        "## Buat Model"
      ],
      "metadata": {
        "id": "-Ki6W3Rjr2jf"
      }
    },
    {
      "cell_type": "code",
      "source": [
        "# Length of the vocabulary in StringLookup Layer\n",
        "vocab_size = len(ids_from_chars.get_vocabulary())\n",
        "\n",
        "# The embedding dimension\n",
        "embedding_dim = 256\n",
        "\n",
        "# Number of RNN units\n",
        "rnn_units = 1024"
      ],
      "metadata": {
        "id": "S63pRSP3r4M8"
      },
      "execution_count": null,
      "outputs": []
    },
    {
      "cell_type": "code",
      "source": [
        "class MyModel(tf.keras.Model):\n",
        "    def __init__(self, vocab_size, embedding_dim, rnn_units):\n",
        "        super(MyModel, self).__init__()\n",
        "        self.embedding = tf.keras.layers.Embedding(vocab_size, embedding_dim)\n",
        "        self.gru = tf.keras.layers.GRU(rnn_units,\n",
        "                                       return_sequences=True,\n",
        "                                       return_state=True)\n",
        "        self.dense = tf.keras.layers.Dense(vocab_size)\n",
        "\n",
        "    def call(self, inputs, states=None, return_state=False, training=False):\n",
        "        x = self.embedding(inputs)\n",
        "        if states is None:\n",
        "            states = self.gru.get_initial_state(batch_size=tf.shape(inputs)[0])\n",
        "        x, states = self.gru(x, initial_state=states, training=training)\n",
        "        x = self.dense(x)\n",
        "\n",
        "        if return_state:\n",
        "            return x, states\n",
        "        else:\n",
        "            return x"
      ],
      "metadata": {
        "id": "tAQco_jTr_HY"
      },
      "execution_count": null,
      "outputs": []
    },
    {
      "cell_type": "code",
      "source": [
        "model = MyModel(\n",
        "    vocab_size=vocab_size,\n",
        "    embedding_dim=embedding_dim,\n",
        "    rnn_units=rnn_units)"
      ],
      "metadata": {
        "id": "lrwKK5_uW9Uq"
      },
      "execution_count": null,
      "outputs": []
    },
    {
      "cell_type": "markdown",
      "source": [
        "## Uji Model"
      ],
      "metadata": {
        "id": "HSJgaucusayr"
      }
    },
    {
      "cell_type": "code",
      "source": [
        "for input_example_batch, target_example_batch in dataset.take(1):\n",
        "    example_batch_predictions = model(input_example_batch)\n",
        "    print(example_batch_predictions.shape, \"# (batch_size, sequence_length, vocab_size)\")"
      ],
      "metadata": {
        "colab": {
          "base_uri": "https://localhost:8080/",
          "height": 460
        },
        "id": "7YCDWDzJW_JC",
        "outputId": "5174896e-0066-42b3-a0b6-175bec47da6c"
      },
      "execution_count": null,
      "outputs": [
        {
          "output_type": "error",
          "ename": "ValueError",
          "evalue": "Exception encountered when calling MyModel.call().\n\n\u001b[1mtoo many values to unpack (expected 2)\u001b[0m\n\nArguments received by MyModel.call():\n  • inputs=tf.Tensor(shape=(64, 100), dtype=int64)\n  • states=None\n  • return_state=False\n  • training=False",
          "traceback": [
            "\u001b[0;31m---------------------------------------------------------------------------\u001b[0m",
            "\u001b[0;31mValueError\u001b[0m                                Traceback (most recent call last)",
            "\u001b[0;32m<ipython-input-51-d5691f3250ba>\u001b[0m in \u001b[0;36m<cell line: 1>\u001b[0;34m()\u001b[0m\n\u001b[1;32m      1\u001b[0m \u001b[0;32mfor\u001b[0m \u001b[0minput_example_batch\u001b[0m\u001b[0;34m,\u001b[0m \u001b[0mtarget_example_batch\u001b[0m \u001b[0;32min\u001b[0m \u001b[0mdataset\u001b[0m\u001b[0;34m.\u001b[0m\u001b[0mtake\u001b[0m\u001b[0;34m(\u001b[0m\u001b[0;36m1\u001b[0m\u001b[0;34m)\u001b[0m\u001b[0;34m:\u001b[0m\u001b[0;34m\u001b[0m\u001b[0;34m\u001b[0m\u001b[0m\n\u001b[0;32m----> 2\u001b[0;31m     \u001b[0mexample_batch_predictions\u001b[0m \u001b[0;34m=\u001b[0m \u001b[0mmodel\u001b[0m\u001b[0;34m(\u001b[0m\u001b[0minput_example_batch\u001b[0m\u001b[0;34m)\u001b[0m\u001b[0;34m\u001b[0m\u001b[0;34m\u001b[0m\u001b[0m\n\u001b[0m\u001b[1;32m      3\u001b[0m     \u001b[0mprint\u001b[0m\u001b[0;34m(\u001b[0m\u001b[0mexample_batch_predictions\u001b[0m\u001b[0;34m.\u001b[0m\u001b[0mshape\u001b[0m\u001b[0;34m,\u001b[0m \u001b[0;34m\"# (batch_size, sequence_length, vocab_size)\"\u001b[0m\u001b[0;34m)\u001b[0m\u001b[0;34m\u001b[0m\u001b[0;34m\u001b[0m\u001b[0m\n",
            "\u001b[0;32m/usr/local/lib/python3.10/dist-packages/keras/src/utils/traceback_utils.py\u001b[0m in \u001b[0;36merror_handler\u001b[0;34m(*args, **kwargs)\u001b[0m\n\u001b[1;32m    120\u001b[0m             \u001b[0;31m# To get the full stack trace, call:\u001b[0m\u001b[0;34m\u001b[0m\u001b[0;34m\u001b[0m\u001b[0m\n\u001b[1;32m    121\u001b[0m             \u001b[0;31m# `keras.config.disable_traceback_filtering()`\u001b[0m\u001b[0;34m\u001b[0m\u001b[0;34m\u001b[0m\u001b[0m\n\u001b[0;32m--> 122\u001b[0;31m             \u001b[0;32mraise\u001b[0m \u001b[0me\u001b[0m\u001b[0;34m.\u001b[0m\u001b[0mwith_traceback\u001b[0m\u001b[0;34m(\u001b[0m\u001b[0mfiltered_tb\u001b[0m\u001b[0;34m)\u001b[0m \u001b[0;32mfrom\u001b[0m \u001b[0;32mNone\u001b[0m\u001b[0;34m\u001b[0m\u001b[0;34m\u001b[0m\u001b[0m\n\u001b[0m\u001b[1;32m    123\u001b[0m         \u001b[0;32mfinally\u001b[0m\u001b[0;34m:\u001b[0m\u001b[0;34m\u001b[0m\u001b[0;34m\u001b[0m\u001b[0m\n\u001b[1;32m    124\u001b[0m             \u001b[0;32mdel\u001b[0m \u001b[0mfiltered_tb\u001b[0m\u001b[0;34m\u001b[0m\u001b[0;34m\u001b[0m\u001b[0m\n",
            "\u001b[0;32m<ipython-input-48-6deb8f674c00>\u001b[0m in \u001b[0;36mcall\u001b[0;34m(self, inputs, states, return_state, training)\u001b[0m\n\u001b[1;32m     12\u001b[0m         \u001b[0;32mif\u001b[0m \u001b[0mstates\u001b[0m \u001b[0;32mis\u001b[0m \u001b[0;32mNone\u001b[0m\u001b[0;34m:\u001b[0m\u001b[0;34m\u001b[0m\u001b[0;34m\u001b[0m\u001b[0m\n\u001b[1;32m     13\u001b[0m             \u001b[0mstates\u001b[0m \u001b[0;34m=\u001b[0m \u001b[0mself\u001b[0m\u001b[0;34m.\u001b[0m\u001b[0mgru\u001b[0m\u001b[0;34m.\u001b[0m\u001b[0mget_initial_state\u001b[0m\u001b[0;34m(\u001b[0m\u001b[0mbatch_size\u001b[0m\u001b[0;34m=\u001b[0m\u001b[0mtf\u001b[0m\u001b[0;34m.\u001b[0m\u001b[0mshape\u001b[0m\u001b[0;34m(\u001b[0m\u001b[0minputs\u001b[0m\u001b[0;34m)\u001b[0m\u001b[0;34m[\u001b[0m\u001b[0;36m0\u001b[0m\u001b[0;34m]\u001b[0m\u001b[0;34m)\u001b[0m\u001b[0;34m\u001b[0m\u001b[0;34m\u001b[0m\u001b[0m\n\u001b[0;32m---> 14\u001b[0;31m         \u001b[0mx\u001b[0m\u001b[0;34m,\u001b[0m \u001b[0mstates\u001b[0m \u001b[0;34m=\u001b[0m \u001b[0mself\u001b[0m\u001b[0;34m.\u001b[0m\u001b[0mgru\u001b[0m\u001b[0;34m(\u001b[0m\u001b[0mx\u001b[0m\u001b[0;34m,\u001b[0m \u001b[0minitial_state\u001b[0m\u001b[0;34m=\u001b[0m\u001b[0mstates\u001b[0m\u001b[0;34m,\u001b[0m \u001b[0mtraining\u001b[0m\u001b[0;34m=\u001b[0m\u001b[0mtraining\u001b[0m\u001b[0;34m)\u001b[0m\u001b[0;34m\u001b[0m\u001b[0;34m\u001b[0m\u001b[0m\n\u001b[0m\u001b[1;32m     15\u001b[0m         \u001b[0mx\u001b[0m \u001b[0;34m=\u001b[0m \u001b[0mself\u001b[0m\u001b[0;34m.\u001b[0m\u001b[0mdense\u001b[0m\u001b[0;34m(\u001b[0m\u001b[0mx\u001b[0m\u001b[0;34m)\u001b[0m\u001b[0;34m\u001b[0m\u001b[0;34m\u001b[0m\u001b[0m\n\u001b[1;32m     16\u001b[0m \u001b[0;34m\u001b[0m\u001b[0m\n",
            "\u001b[0;31mValueError\u001b[0m: Exception encountered when calling MyModel.call().\n\n\u001b[1mtoo many values to unpack (expected 2)\u001b[0m\n\nArguments received by MyModel.call():\n  • inputs=tf.Tensor(shape=(64, 100), dtype=int64)\n  • states=None\n  • return_state=False\n  • training=False"
          ]
        }
      ]
    }
  ]
}